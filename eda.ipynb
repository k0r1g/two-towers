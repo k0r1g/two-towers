{
 "cells": [
  {
   "cell_type": "markdown",
   "metadata": {},
   "source": [
    "### Download Dataset, quick EDA, select sub-set of Data "
   ]
  },
  {
   "cell_type": "code",
   "execution_count": null,
   "metadata": {},
   "outputs": [],
   "source": [
    "import matplotlib.pyplot as plt\n",
    "from datasets import load_dataset\n",
    "import numpy as np # For calculating counts efficiently if needed\n",
    "import random # To set a seed for reproducibility if needed\n",
    "\n",
    "# --- 1. Load the Dataset ---\n",
    "# Ensure you have loaded the dataset as 'ds'\n",
    "# ds = load_dataset(\"microsoft/ms_marco\", \"v1.1\")\n",
    "# Make sure 'ds' is available in your environment\n",
    "\n",
    "from datasets import load_dataset\n",
    "\n",
    "ds = load_dataset(\"microsoft/ms_marco\", \"v1.1\")\n",
    "\n",
    "# --- 2. Select Data Split ---\n",
    "# We'll use the 'train' split for this example. You can change this to 'validation' or 'test' if needed.\n",
    "split_name = 'train'\n",
    "sample_size = 5000\n",
    "random_seed = 42 # Set a seed for reproducible sampling\n",
    "\n",
    "if split_name not in ds:\n",
    "    print(f\"Error: Split '{split_name}' not found in the dataset. Available splits: {list(ds.keys())}\")\n",
    "else:\n",
    "    print(f\"Using dataset split: {split_name}\")\n",
    "    original_data_split = ds[split_name]\n",
    "    num_total_queries = len(original_data_split)\n",
    "    print(f\"Total queries in '{split_name}' split: {num_total_queries}\")\n",
    "\n",
    "    if sample_size > num_total_queries:\n",
    "        print(f\"Warning: Sample size ({sample_size}) is larger than the number of queries in the split ({num_total_queries}). Using the entire split.\")\n",
    "        sampled_data_split = original_data_split\n",
    "        actual_sample_size = num_total_queries\n",
    "    else:\n",
    "        # --- 3. Sample the Data ---\n",
    "        print(f\"Randomly sampling {sample_size} queries (seed={random_seed})...\")\n",
    "        # Shuffle the dataset with a seed and select the first N elements\n",
    "        sampled_data_split = original_data_split.shuffle(seed=random_seed).select(range(sample_size))\n",
    "        actual_sample_size = sample_size\n",
    "        print(f\"Selected {len(sampled_data_split)} queries for analysis.\")\n",
    "\n",
    "\n",
    "    # --- 4. Calculate Passage Counts (on the sample) ---\n",
    "    print(\"Calculating passage counts for the sample...\")\n",
    "    passage_counts = []\n",
    "    try:\n",
    "        # Iterate through the SAMPLED dataset\n",
    "        for entry in sampled_data_split:\n",
    "            # The number of passages is the length of the 'passage_text' list\n",
    "            count = len(entry['passages']['passage_text'])\n",
    "            passage_counts.append(count)\n",
    "        print(f\"Calculated counts for {len(passage_counts)} sampled queries.\")\n",
    "\n",
    "        # --- 5. Plot the Histogram ---\n",
    "        plt.figure(figsize=(12, 6)) # Adjust figure size for better readability\n",
    "        # Determine appropriate bins for the sample\n",
    "        max_count = max(passage_counts) if passage_counts else 0\n",
    "        bins = np.arange(max_count + 2) - 0.5 # Center bins around integers\n",
    "\n",
    "        plt.hist(passage_counts, bins=bins, edgecolor='black') # Use calculated bins\n",
    "        plt.xlabel(\"Number of Passages Associated with a Query\")\n",
    "        plt.ylabel(\"Number of Queries (Frequency in Sample)\")\n",
    "        plt.title(f\"Distribution of Passage Counts per Query (Sample of {actual_sample_size} from {split_name} split)\")\n",
    "        plt.xticks(np.arange(max_count + 1)) # Set ticks to integer counts\n",
    "        plt.grid(axis='y', alpha=0.75)\n",
    "        plt.show()\n",
    "\n",
    "    except KeyError as e:\n",
    "        print(f\"Error accessing data structure: {e}. Please check the dataset format.\")\n",
    "    except Exception as e:\n",
    "        print(f\"An unexpected error occurred: {e}\")"
   ]
  },
  {
   "cell_type": "code",
   "execution_count": null,
   "metadata": {},
   "outputs": [],
   "source": []
  }
 ],
 "metadata": {
  "kernelspec": {
   "display_name": "Python 3",
   "language": "python",
   "name": "python3"
  },
  "language_info": {
   "codemirror_mode": {
    "name": "ipython",
    "version": 3
   },
   "file_extension": ".py",
   "mimetype": "text/x-python",
   "name": "python",
   "nbconvert_exporter": "python",
   "pygments_lexer": "ipython3",
   "version": "3.10.4"
  }
 },
 "nbformat": 4,
 "nbformat_minor": 2
}
